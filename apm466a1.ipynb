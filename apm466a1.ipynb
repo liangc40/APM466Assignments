{
  "nbformat": 4,
  "nbformat_minor": 0,
  "metadata": {
    "colab": {
      "name": "apm466a1.ipynb",
      "provenance": [],
      "collapsed_sections": []
    },
    "kernelspec": {
      "name": "python3",
      "display_name": "Python 3"
    },
    "accelerator": "GPU"
  },
  "cells": [
    {
      "cell_type": "code",
      "metadata": {
        "id": "KPQJeQ9IAvP_",
        "colab_type": "code",
        "outputId": "e11aa8b4-1ef6-4e5f-d214-a1b6ccda568f",
        "colab": {
          "base_uri": "https://localhost:8080/",
          "height": 122
        }
      },
      "source": [
        "from google.colab import drive\n",
        "drive.mount('/content/drive')"
      ],
      "execution_count": 2,
      "outputs": [
        {
          "output_type": "stream",
          "text": [
            "Go to this URL in a browser: https://accounts.google.com/o/oauth2/auth?client_id=947318989803-6bn6qk8qdgf4n4g3pfee6491hc0brc4i.apps.googleusercontent.com&redirect_uri=urn%3aietf%3awg%3aoauth%3a2.0%3aoob&response_type=code&scope=email%20https%3a%2f%2fwww.googleapis.com%2fauth%2fdocs.test%20https%3a%2f%2fwww.googleapis.com%2fauth%2fdrive%20https%3a%2f%2fwww.googleapis.com%2fauth%2fdrive.photos.readonly%20https%3a%2f%2fwww.googleapis.com%2fauth%2fpeopleapi.readonly\n",
            "\n",
            "Enter your authorization code:\n",
            "··········\n",
            "Mounted at /content/drive\n"
          ],
          "name": "stdout"
        }
      ]
    },
    {
      "cell_type": "markdown",
      "metadata": {
        "id": "pet0sIOcjBv5",
        "colab_type": "text"
      },
      "source": [
        "\n"
      ]
    },
    {
      "cell_type": "markdown",
      "metadata": {
        "id": "3fictpW5EvMh",
        "colab_type": "text"
      },
      "source": [
        "**Question 1: Why does a government issue bonds?**"
      ]
    },
    {
      "cell_type": "markdown",
      "metadata": {
        "id": "uZVlFPigEx-9",
        "colab_type": "text"
      },
      "source": [
        "Answer: The government needs to raise funds to finance some projects. "
      ]
    },
    {
      "cell_type": "code",
      "metadata": {
        "id": "7vBBg1smdV_C",
        "colab_type": "code",
        "colab": {}
      },
      "source": [
        "import numpy as np\n",
        "from numpy import linalg as LA\n",
        "import sympy\n",
        "import math\n",
        "from sympy.solvers import solve\n",
        "from sympy import Symbol\n",
        "from sympy import Eq\n",
        "import datetime\n",
        "from datetime import timedelta\n",
        "import matplotlib.pyplot as plt\n",
        "from scipy.interpolate import splrep, splev"
      ],
      "execution_count": 0,
      "outputs": []
    },
    {
      "cell_type": "code",
      "metadata": {
        "id": "jKZe4Vsmg3mt",
        "colab_type": "code",
        "colab": {}
      },
      "source": [
        "class bond:\n",
        "   def __init__(self, ISIN, ten_day_price, maturity_date, coupon_rate, periods):\n",
        "    self.ISIN = ISIN\n",
        "    self.ten_day_price = ten_day_price\n",
        "    self.maturity_date = maturity_date\n",
        "    self.coupon_rate = coupon_rate\n",
        "    self.periods = periods"
      ],
      "execution_count": 0,
      "outputs": []
    },
    {
      "cell_type": "code",
      "metadata": {
        "id": "JExEEue2pFSd",
        "colab_type": "code",
        "colab": {}
      },
      "source": [
        "ten_day_2020_3_1 = [99.85, 99.86, 99.86, 99.86, 99.86, 99.86, 99.86, 99.86, 99.86, 99.86]\n",
        "date = datetime.date(2020, 3, 1)\n",
        "bond_2020_3_1 = bond(\"CA135087D929\", ten_day_2020_3_1, date, 0.75, 0)\n",
        "\n",
        "ten_day_2020_6_1 = [100.70, 100.70, 100.69, 100.69, 100.68, 100.66, 100.65, 100.65, 100.64, 100.64]\n",
        "date = datetime.date(2020, 6, 1)\n",
        "bond_2020_6_1 = bond(\"CA135087YZ11\", ten_day_2020_6_1, date, 1.75, 0)\n",
        "\n",
        "ten_day_2020_9_1 = [99.26, 99.28, 99.28, 99.27, 99.28, 99.28, 99.28, 99.27, 99.28, 99.30]\n",
        "date = datetime.date(2020, 9, 1)\n",
        "bond_2020_9_1 = bond(\"CA135087E596\", ten_day_2020_9_1, date, 0.375, 1)\n",
        "\n",
        "ten_day_2021_3_1 = [98.89, 98.93, 98.95, 98.94, 98.92, 98.92, 98.88, 98.90, 98.90, 98.93]\n",
        "date = datetime.date(2021, 3, 1)\n",
        "bond_2021_3_1 = bond(\"CA135087F254\", ten_day_2021_3_1, date, 0.375, 2)\n",
        "\n",
        "ten_day_2021_9_1 = [98.41, 98.45, 98.49, 98.46, 98.46, 98.43, 98.43, 98.38, 98.41, 98.42]\n",
        "date = datetime.date(2021, 9, 1)\n",
        "bond_2021_9_1 = bond(\"CA135087F585\", ten_day_2021_9_1, date, 0.375, 3)\n",
        "\n",
        "ten_day_2022_3_1 = [97.57, 97.63, 97.66, 97.65, 97.64, 97.60, 97.61, 97.57, 97.58, 97.61]\n",
        "date = datetime.date(2022, 3, 1)\n",
        "bond_2022_3_1 = bond(\"CA135087G328\", ten_day_2022_3_1, date, 0.25, 4)\n",
        "\n",
        "ten_day_2023_3_1 = [100.31, 100.42, 100.48, 100.45, 100.44, 100.35, 100.31, 100.27, 100.31, 100.38]\n",
        "date = datetime.date(2023, 3, 1)\n",
        "bond_2023_3_1 = bond(\"CA135087H490\", ten_day_2023_3_1, date, 0.875, 5)\n",
        "\n",
        "ten_day_2024_3_1 = [102.52, 102.65, 102.75, 102.58, 102.68, 102.53, 102.47, 102.46, 102.54, 102.64]\n",
        "date = datetime.date(2024, 3, 1)\n",
        "bond_2024_3_1 = bond(\"CA135087J546\", ten_day_2024_3_1, date, 1.125, 6)\n",
        "\n",
        "ten_day_2024_9_1 = [98.72, 98.95, 99.29, 99.11, 99.25, 98.99, 99.03, 99.06, 98.99, 99.10]\n",
        "date = datetime.date(2024, 9, 1)\n",
        "bond_2024_9_1 = bond(\"CA135087J967\", ten_day_2024_9_1, date, 0.75, 7)\n",
        "\n",
        "ten_day_2025_3_1 = [98.24, 98.43, 98.58, 98.48, 98.48, 98.30, 98.25, 98.24, 98.34, 98.47]\n",
        "date = datetime.date(2025, 3, 1)\n",
        "bond_2025_3_1 = bond(\"CA135087K528\", ten_day_2025_3_1, date, 0.625, 8)"
      ],
      "execution_count": 0,
      "outputs": []
    },
    {
      "cell_type": "code",
      "metadata": {
        "id": "TZOqw3SZtYKG",
        "colab_type": "code",
        "colab": {}
      },
      "source": [
        "bonds_list = []\n",
        "bonds_list.append(bond_2020_3_1)\n",
        "bonds_list.append(bond_2020_9_1)\n",
        "bonds_list.append(bond_2021_3_1)\n",
        "bonds_list.append(bond_2021_9_1)\n",
        "bonds_list.append(bond_2022_3_1)\n",
        "bonds_list.append(bond_2023_3_1)\n",
        "bonds_list.append(bond_2024_3_1)\n",
        "bonds_list.append(bond_2024_9_1)\n",
        "bonds_list.append(bond_2025_3_1)"
      ],
      "execution_count": 0,
      "outputs": []
    },
    {
      "cell_type": "code",
      "metadata": {
        "id": "84B6Fb9YSMF8",
        "colab_type": "code",
        "colab": {}
      },
      "source": [
        "record_date_dict = {}\n",
        "record_date_dict[0] = datetime.date(2020, 1, 2)\n",
        "record_date_dict[1] = datetime.date(2020, 1, 3)\n",
        "record_date_dict[2] = datetime.date(2020, 1, 6)\n",
        "record_date_dict[3] = datetime.date(2020, 1, 7)\n",
        "record_date_dict[4] = datetime.date(2020, 1, 8)\n",
        "record_date_dict[5] = datetime.date(2020, 1, 9)\n",
        "record_date_dict[6] = datetime.date(2020, 1, 10)\n",
        "record_date_dict[7] = datetime.date(2020, 1, 13)\n",
        "record_date_dict[8] = datetime.date(2020, 1, 14)\n",
        "record_date_dict[9] = datetime.date(2020, 1, 15)"
      ],
      "execution_count": 0,
      "outputs": []
    },
    {
      "cell_type": "code",
      "metadata": {
        "id": "mXuqtcna-cmg",
        "colab_type": "code",
        "colab": {}
      },
      "source": [
        "def calculate_present_value(bond, day):\n",
        "    # calculate the dirty price for this bond\n",
        "    dirty_price = bond.coupon_rate * (183 - (31- day) - 29) / 183\n",
        "    # with dirty price and close price we can calculate the present\n",
        "    # value for a certain bond based on this day's observation\n",
        "    present_value = round(dirty_price + bond.ten_day_price[day], 4)\n",
        "    return present_value"
      ],
      "execution_count": 0,
      "outputs": []
    },
    {
      "cell_type": "code",
      "metadata": {
        "id": "1go9tiOJbrfz",
        "colab_type": "code",
        "colab": {}
      },
      "source": [
        "def calculate_year_difference(date_one, date_two):\n",
        "    duration_in_s = (date_two - date_one).total_seconds()\n",
        "    return round(divmod(duration_in_s, 86400)[0] / 365, 3)\n",
        "\n",
        "def generate_year_fraction_dict(recording_date, year_fraction_dict, counter = 0):\n",
        "    for i in range(len(bonds_list)-1):\n",
        "        year_fraction = calculate_year_difference(recording_date, \n",
        "                                              bonds_list[i].maturity_date)\n",
        "        year_fraction_dict[counter] = year_fraction\n",
        "\n",
        "        if calculate_year_difference(bonds_list[i].maturity_date,\n",
        "                                     bonds_list[i+1].maturity_date) > 0.6:\n",
        "            \n",
        "            later_year_fraction = calculate_year_difference(recording_date, \n",
        "                                              bonds_list[i+1].maturity_date)\n",
        "            year_fraction_dict[counter + 1] = (later_year_fraction +\n",
        "                                               year_fraction)/2\n",
        "            counter += 1\n",
        "        counter += 1\n",
        "    year_fraction_dict[counter] = calculate_year_difference(recording_date,\n",
        "                                                        bonds_list[-1].maturity_date)\n",
        "    return year_fraction_dict"
      ],
      "execution_count": 0,
      "outputs": []
    },
    {
      "cell_type": "code",
      "metadata": {
        "id": "wOIxeU3CMWVM",
        "colab_type": "code",
        "colab": {}
      },
      "source": [
        "periods_dict = {}\n",
        "periods_dict[0] = 0\n",
        "periods_dict[1] = 1\n",
        "periods_dict[2] = 2\n",
        "periods_dict[3] = 3\n",
        "periods_dict[4] = 4\n",
        "periods_dict[5] = 6\n",
        "periods_dict[6] = 8\n",
        "periods_dict[7] = 9\n",
        "periods_dict[8] = 10\n",
        "\n",
        "def total_present_value(face_value, coupon, periods, rate, year_fraction_dict):\n",
        "    total_pv = 0\n",
        "\n",
        "    total_periods = periods_dict[periods]\n",
        "\n",
        "    if (periods == 0):\n",
        "        total_pv += face_value * math.exp(-year_fraction_dict[0] * rate)\n",
        "    else:\n",
        "        for i in range(total_periods):\n",
        "            total_pv += coupon * math.exp(-year_fraction_dict[i] * rate)\n",
        "        total_pv += face_value * math.exp(-year_fraction_dict[i+1] * rate)\n",
        "    return total_pv\n",
        " \n",
        "def calculate_ytm(bond, day, year_fraction_dict):\n",
        "    # print(bond.maturity_date)\n",
        "    present_value = calculate_present_value(bond, day)\n",
        "    face_value = bond.coupon_rate + 100\n",
        "    coupon = bond.coupon_rate\n",
        "    periods = bond.periods\n",
        "\n",
        "    ytm_one= coupon/100\n",
        "    condition_one = True\n",
        "    while condition_one:\n",
        "        if (present_value < face_value):\n",
        "            ytm_one -= 0.000001\n",
        "        else:\n",
        "            ytm_one += 0.000001\n",
        " \n",
        "        total_pv_one = total_present_value(face_value, coupon, periods, ytm_one, year_fraction_dict)\n",
        " \n",
        "        if (present_value < face_value):\n",
        "            condition_one = total_pv_one < present_value\n",
        "        else:\n",
        "            condition_one = total_pv_one > present_value\n",
        "    # print(\"YTM ONE\", ytm_one * 100)\n",
        "\n",
        "    ytm_two= coupon/100\n",
        "    condition_two = True\n",
        "    while condition_two:\n",
        "        if (present_value < face_value):\n",
        "            ytm_two += 0.000001\n",
        "        else:\n",
        "            ytm_two -= 0.000001\n",
        " \n",
        "        total_pv_two = total_present_value(face_value, coupon, periods, ytm_two, year_fraction_dict)\n",
        " \n",
        "        if (present_value < face_value):\n",
        "            condition_two = total_pv_two > present_value\n",
        "        else:\n",
        "            condition_two = total_pv_two < present_value\n",
        "    # print(\"YTM TWO\", ytm_two * 100)\n",
        "    return max(ytm_one * 100, ytm_two * 100)"
      ],
      "execution_count": 0,
      "outputs": []
    },
    {
      "cell_type": "code",
      "metadata": {
        "id": "-DOqUC48xpnS",
        "colab_type": "code",
        "outputId": "db665493-8309-4d48-d7f9-9ba9b8f0f4bf",
        "colab": {
          "base_uri": "https://localhost:8080/",
          "height": 207
        }
      },
      "source": [
        "def generate_ytm_per_day(bonds_list):\n",
        "    day_to_raw_ytm_dict = {}\n",
        "    day_to_full_ytm_dict = {}\n",
        "    # day_to_present_value_dict = {}\n",
        "    day_to_year_fraction_dict = {}\n",
        "\n",
        "    # loop through all ten days\n",
        "    for i in range(10):\n",
        "        # a list to store ytm for 9 time periods (such as 2020.3.1, 2020.9.1etc)\n",
        "        # based on the observation of a single date\n",
        "        raw_ytm_list = []\n",
        "        full_ytm_list = []\n",
        "        # a list to store present values for 9 time periods\n",
        "        # based on the observation of a single date\n",
        "        present_value_list = []\n",
        "        # a dict to store the year fraction information\n",
        "        # calculate the number of years between the day of observation\n",
        "        # and the maturity date of the bond, eg. the bond matures 1.12\n",
        "        # in years from today\n",
        "        input_dict = {}\n",
        "        year_fraction_dict = generate_year_fraction_dict(record_date_dict[i],\n",
        "                                                         input_dict)\n",
        "\n",
        "        # loop through all bonds by index\n",
        "        j = 0\n",
        "        # for j in range(len(bonds_list) - 1):\n",
        "        while(j < len(bonds_list)-1):\n",
        "            bond = bonds_list[j]\n",
        "            next_bond = bonds_list[j+1]\n",
        "            ytm = calculate_ytm(bond, i, year_fraction_dict)\n",
        "            raw_ytm_list.append(ytm)\n",
        "            full_ytm_list.append(ytm)\n",
        "            \n",
        "            if calculate_year_difference(bond.maturity_date, \n",
        "                                        next_bond.maturity_date) > 0.6:\n",
        "                next_bond_ytm = calculate_ytm(next_bond, i, year_fraction_dict)\n",
        "                average_ytm = (next_bond_ytm + ytm)/2\n",
        "                full_ytm_list.append(average_ytm)\n",
        "            j += 1\n",
        "\n",
        "        last_bond = bonds_list[-1]\n",
        "        last_ytm = calculate_ytm(last_bond, i, year_fraction_dict)\n",
        "        raw_ytm_list.append(last_ytm)\n",
        "        full_ytm_list.append(last_ytm)\n",
        "        print(full_ytm_list)\n",
        "        day_to_raw_ytm_dict[i] = raw_ytm_list\n",
        "        day_to_full_ytm_dict[i] = full_ytm_list\n",
        "        day_to_year_fraction_dict[i] = year_fraction_dict\n",
        "\n",
        "    # print(day_to_raw_ytm_dict)\n",
        "    # print(day_to_full_ytm_dict)\n",
        "    # print(day_to_year_fraction_dict)\n",
        "    return day_to_raw_ytm_dict, day_to_full_ytm_dict, day_to_year_fraction_dict\n",
        "\n",
        "day_to_raw_ytm_dict, day_to_full_ytm_dict, day_to_year_fraction_dict = generate_ytm_per_day(bonds_list)"
      ],
      "execution_count": 11,
      "outputs": [
        {
          "output_type": "stream",
          "text": [
            "[2.430500000000298, 1.8617999999997792, 1.71259999999963, 1.7137999999996312, 1.6423999999995764, 1.6427499999995758, 1.6430999999995755, 1.629049999999653, 1.6149999999997309, 1.7776999999996452, 1.599999999999484]\n",
            "[2.3880000000002557, 1.836599999999754, 1.6801999999995976, 1.6910999999996086, 1.6153999999995494, 1.6114999999995447, 1.60759999999954, 1.5950999999996194, 1.5825999999996985, 1.7261999999995936, 1.5614999999994474]\n",
            "[2.487400000000355, 1.8559999999997734, 1.67259999999959, 1.6733999999995908, 1.6063999999995404, 1.5986499999995318, 1.5908999999995233, 1.5755999999996018, 1.5602999999996803, 1.6523999999995198, 1.5330999999994683]\n",
            "[2.5102000000003777, 1.8767999999997942, 1.6839999999996014, 1.6936999999996112, 1.612899999999547, 1.6067499999995398, 1.6005999999995328, 1.600849999999625, 1.601099999999717, 1.6927999999995602, 1.5533999999994534]\n",
            "[2.5340000000004017, 1.8668999999997844, 1.7042999999996218, 1.695599999999613, 1.6192999999995534, 1.611599999999545, 1.6038999999995363, 1.5901499999996143, 1.5763999999996923, 1.6616999999995292, 1.5535999999994534]\n",
            "[2.5588000000004265, 1.8693999999997868, 1.7069999999996244, 1.7149999999996324, 1.6400999999995742, 1.6365999999995697, 1.6330999999995655, 1.622949999999647, 1.6127999999997287, 1.7200999999995876, 1.5903999999994745]\n",
            "[2.5662000000004337, 1.8749999999997924, 1.7437999999996612, 1.7168999999996344, 1.6361999999995702, 1.6408999999995741, 1.645599999999578, 1.6363999999996606, 1.627199999999743, 1.7109999999995784, 1.600899999999485]\n",
            "[2.6907000000005583, 1.9111999999998286, 1.7363999999996538, 1.7551999999996726, 1.660999999999595, 1.6611999999995943, 1.6613999999995936, 1.6463999999996703, 1.6313999999997473, 1.7066999999995742, 1.6047999999994889]\n",
            "[2.721700000000589, 1.9011999999998186, 1.7391999999996566, 1.7383999999996558, 1.6577999999995918, 1.6530999999995863, 1.6483999999995809, 1.629749999999654, 1.611099999999727, 1.7222999999995898, 1.5843999999994685]\n",
            "[2.7540000000006217, 1.8748999999997924, 1.7149999999996324, 1.7340999999996516, 1.644999999999579, 1.6353499999995686, 1.625699999999558, 1.6059999999996302, 1.5862999999997023, 1.6977999999995652, 1.55809999999945]\n"
          ],
          "name": "stdout"
        }
      ]
    },
    {
      "cell_type": "code",
      "metadata": {
        "id": "N-rdxGQ-IPTv",
        "colab_type": "code",
        "outputId": "07576688-b1ed-46a8-96c0-8cb263458994",
        "colab": {
          "base_uri": "https://localhost:8080/",
          "height": 295
        }
      },
      "source": [
        "# for i in range(10):\n",
        "#     plt.plot(day_to_full_ytm_dict[i])\n",
        "\n",
        "# maturity_list = []\n",
        "\n",
        "dates = ['Jan 2', 'Jan 3', 'Jan 6', 'Jan 7', 'Jan 8', 'Jan 9', 'Jan 10', 'Jan 13', 'Jan 14', 'Jan 15']\n",
        "plt.xlabel('time to maturity')\n",
        "plt.ylabel('yield to maturity')\n",
        "plt.title('five year yield curve')\n",
        "plt.xticks(ticks = [0, 1, 2, 3, 4, 5, 6, 7, 8, 9, 10],labels = ['20/3','20/9','21/3','21/9', '22/3', '22/9', '23/3', '23/9', '24/3', '24/9','2025/3'])\n",
        "for i in range(10):\n",
        "    plt.plot(day_to_full_ytm_dict[i], label = dates[i])\n",
        "plt.legend(loc=1, prop={'size': 6})\n",
        "plt.savefig('/content/drive/My Drive/Colab Notebooks/A4/ytm.png')\n",
        "plt.show()"
      ],
      "execution_count": 12,
      "outputs": [
        {
          "output_type": "display_data",
          "data": {
            "image/png": "[encoded data removed]",
            "text/plain": [
              "<Figure size 432x288 with 1 Axes>"
            ]
          },
          "metadata": {
            "tags": []
          }
        }
      ]
    },
    {
      "cell_type": "code",
      "metadata": {
        "id": "LGxwX0QmBhbN",
        "colab_type": "code",
        "outputId": "3582a6fd-cd9d-4e7e-fe9e-411612422bb8",
        "colab": {
          "base_uri": "https://localhost:8080/",
          "height": 34
        }
      },
      "source": [
        "def total_spot_rate_present_value(face_value, coupon, periods, rate, year_fraction_dict, spot_rate_list, with_gap):\n",
        "    total_pv = 0\n",
        "    total_periods = periods_dict[periods]\n",
        "\n",
        "\n",
        "    if with_gap == False:\n",
        "        for i in range(total_periods):\n",
        "            total_pv += coupon * math.exp(-year_fraction_dict[i] * (spot_rate_list[i]/100))\n",
        "        total_pv += face_value * math.exp(-year_fraction_dict[i+1] * rate)\n",
        "    else:\n",
        "        for i in range(total_periods - 1):\n",
        "            total_pv += coupon * math.exp(-year_fraction_dict[i] * (spot_rate_list[i]/100))\n",
        "        # print(coupon * math.exp(-year_fraction_dict[i+1] * ((spot_rate_list[-1]/100 + rate)/2)))\n",
        "        # print(spot_rate_list[-1])\n",
        "        # print(rate)\n",
        "        # print((spot_rate_list[-1]/100 + rate)/2)\n",
        "        total_pv += coupon * math.exp(-year_fraction_dict[i+1] * ((spot_rate_list[-1]/100 + rate)/2))\n",
        "        # print(face_value * math.exp(-year_fraction_dict[i+2] * rate))\n",
        "        total_pv += face_value * math.exp(-year_fraction_dict[i+2] * rate)\n",
        "\n",
        "\n",
        "    return total_pv\n",
        "\n",
        "\n",
        "def calculate_spot_rate(bond, day, bond_index, year_fraction_dict, spot_rate_list, ytm_list, with_gap):\n",
        "    present_value = calculate_present_value(bond, day)\n",
        "    face_value = bond.coupon_rate + 100\n",
        "    coupon = bond.coupon_rate\n",
        "    periods = bond.periods\n",
        "    spot_rate_one = ytm_list[bond_index]/100\n",
        "\n",
        "    condition_one = True\n",
        "    while condition_one:\n",
        "        if (present_value < face_value):\n",
        "            spot_rate_one -= 0.000001\n",
        "        else:\n",
        "            spot_rate_one += 0.000001\n",
        " \n",
        "        total_pv_one = total_spot_rate_present_value(face_value, coupon, periods,\n",
        "                                      spot_rate_one, year_fraction_dict,\n",
        "                                      spot_rate_list, with_gap)\n",
        "\n",
        "        if (present_value < face_value):\n",
        "            condition_one = total_pv_one < present_value\n",
        "        else:\n",
        "            condition_one = total_pv_one > present_value\n",
        "\n",
        "    spot_rate_two= ytm_list[bond_index]/100\n",
        "    condition_two = True\n",
        "    while condition_two:\n",
        "        if (present_value < face_value):\n",
        "            spot_rate_two += 0.000001\n",
        "        else:\n",
        "            spot_rate_two -= 0.000001\n",
        "\n",
        "        total_pv_two = total_spot_rate_present_value(face_value, coupon, periods,\n",
        "                                      spot_rate_two, year_fraction_dict,\n",
        "                                      spot_rate_list, with_gap)\n",
        "        \n",
        "        if (present_value < face_value):\n",
        "            condition_two = total_pv_two > present_value\n",
        "        else:\n",
        "            condition_two = total_pv_two < present_value\n",
        "\n",
        "\n",
        "    return max(spot_rate_one*100, spot_rate_two*100)\n",
        "\n",
        "\n",
        "\n",
        "year_fraction_dict = {}\n",
        "year_fraction_dict[0] = 0.162\n",
        "year_fraction_dict[1] = 0.666\n",
        "year_fraction_dict[2] = 1.162\n",
        "year_fraction_dict[3] = 1.666\n",
        "year_fraction_dict[4] = 2.162\n",
        "year_fraction_dict[5] = 2.666\n",
        "year_fraction_dict[6] = 3.162\n",
        "year_fraction_dict[7] = 3.666\n",
        "year_fraction_dict[8] = 4.162\n",
        "bond = bonds_list[2]\n",
        "day = 1\n",
        "bond_index = 5\n",
        "spot_rate_list = [2.430500000000298, 1.8611000062756204, 1.7118000050331317, 1.713200005043125, 1.6417000044501946]\n",
        "ytm_list = [2.3690000000002365, 1.8012999999997188, 1.6776999999995952, 1.7076999999996252, 1.6232999999995574, 1.6204999999995529, 1.6927999999995602, 1.5533999999994534]\n",
        "x = calculate_spot_rate(bond, day, bond_index, year_fraction_dict, spot_rate_list, ytm_list, True)\n",
        "print(x)"
      ],
      "execution_count": 13,
      "outputs": [
        {
          "output_type": "stream",
          "text": [
            "1.6754999999996079\n"
          ],
          "name": "stdout"
        }
      ]
    },
    {
      "cell_type": "code",
      "metadata": {
        "id": "F3Olers5x2BA",
        "colab_type": "code",
        "outputId": "e25c3c79-12b5-450e-e81d-22c8ffc2f660",
        "colab": {
          "base_uri": "https://localhost:8080/",
          "height": 207
        }
      },
      "source": [
        "def generate_spot_rate_per_day(bonds_list, day_to_year_fraction_dict):\n",
        "    spot_rate_dict = {}\n",
        "    for i in range(10):\n",
        "        spot_rate_list = []\n",
        "        for j in range(len(bonds_list)):\n",
        "            ytm_list = day_to_raw_ytm_dict[i]\n",
        "\n",
        "            if j == 0:\n",
        "                spot_rate_list.append(ytm_list[0])\n",
        "            if j >= 1:\n",
        "                prev_bond = bonds_list[j-1]\n",
        "                bond = bonds_list[j]\n",
        "                if calculate_year_difference(prev_bond.maturity_date, \n",
        "                                             bond.maturity_date) > 0.6:\n",
        "                    spot_rate = calculate_spot_rate(bond, i, j,\n",
        "                                                    day_to_year_fraction_dict[i],\n",
        "                                                    spot_rate_list, \n",
        "                                                    ytm_list, True)\n",
        "                    spot_rate_list.append((spot_rate_list[-1] + spot_rate)/2)\n",
        "                    spot_rate_list.append(spot_rate)\n",
        "                else:\n",
        "                    spot_rate = calculate_spot_rate(bond, i, j,\n",
        "                                                    day_to_year_fraction_dict[i],\n",
        "                                                    spot_rate_list,\n",
        "                                                    ytm_list, False)\n",
        "                    spot_rate_list.append(spot_rate)\n",
        "        print(spot_rate_list)\n",
        "        spot_rate_dict[i] = spot_rate_list\n",
        "    return spot_rate_dict\n",
        "\n",
        "                    \n",
        "spot_rate_dict = generate_spot_rate_per_day(bonds_list, day_to_year_fraction_dict)   "
      ],
      "execution_count": 14,
      "outputs": [
        {
          "output_type": "stream",
          "text": [
            "[2.430500000000298, 1.8618999999997794, 1.7126999999996302, 1.7138999999996314, 1.6424999999995766, 1.642849999999576, 1.6431999999995757, 1.6291499999996533, 1.615099999999731, 1.781499999999649, 1.6000999999994843]\n",
            "[2.3880000000002557, 1.8366999999997542, 1.6802999999995978, 1.6911999999996086, 1.6154999999995496, 1.611599999999545, 1.60769999999954, 1.5951999999996194, 1.5826999999996987, 1.7292999999995968, 1.5615999999994472]\n",
            "[2.487400000000355, 1.8560999999997736, 1.6726999999995902, 1.673499999999591, 1.6064999999995406, 1.5987499999995318, 1.5909999999995232, 1.5756999999996018, 1.5603999999996803, 1.653599999999521, 1.5331999999994683]\n",
            "[2.5102000000003777, 1.8768999999997944, 1.6840999999996016, 1.6937999999996112, 1.612999999999547, 1.60684999999954, 1.600699999999533, 1.600949999999625, 1.601199999999717, 1.6946999999995622, 1.5534999999994534]\n",
            "[2.5340000000004017, 1.8669999999997844, 1.7043999999996218, 1.6956999999996132, 1.6193999999995534, 1.611699999999545, 1.6039999999995365, 1.5902499999996145, 1.5764999999996925, 1.6626999999995302, 1.5536999999994532]\n",
            "[2.5588000000004265, 1.869499999999787, 1.7070999999996246, 1.7150999999996326, 1.6401999999995742, 1.63669999999957, 1.6331999999995657, 1.6230499999996473, 1.6128999999997289, 1.7220999999995896, 1.5904999999994747]\n",
            "[2.5662000000004337, 1.8750999999997926, 1.7438999999996614, 1.7169999999996344, 1.6362999999995704, 1.6409999999995741, 1.645699999999578, 1.6364999999996606, 1.6272999999997433, 1.7123999999995798, 1.600999999999485]\n",
            "[2.6907000000005583, 1.9112999999998288, 1.736499999999654, 1.7552999999996728, 1.6610999999995952, 1.6612999999995945, 1.6614999999995939, 1.6464999999996706, 1.6314999999997475, 1.707499999999575, 1.604899999999489]\n",
            "[2.721700000000589, 1.9012999999998188, 1.7392999999996568, 1.738499999999656, 1.657899999999592, 1.6531999999995866, 1.6484999999995809, 1.6298499999996539, 1.611199999999727, 1.7239999999995914, 1.5844999999994687]\n",
            "[2.7540000000006217, 1.8749999999997924, 1.7150999999996326, 1.7341999999996516, 1.6450999999995792, 1.6354499999995686, 1.625799999999558, 1.6060999999996302, 1.5863999999997023, 1.6993999999995668, 1.55819999999945]\n"
          ],
          "name": "stdout"
        }
      ]
    },
    {
      "cell_type": "code",
      "metadata": {
        "id": "19gaca3ow8cZ",
        "colab_type": "code",
        "outputId": "12efd8ce-cd5a-4255-c92a-bed6be95cbbc",
        "colab": {
          "base_uri": "https://localhost:8080/",
          "height": 295
        }
      },
      "source": [
        "# for i in range(10):\n",
        "#   plt.plot(spot_rate_dict[i])\n",
        "dates = ['Jan 2', 'Jan 3', 'Jan 6', 'Jan 7', 'Jan 8', 'Jan 9', 'Jan 10', 'Jan 13', 'Jan 14', 'Jan 15']\n",
        "plt.xlabel('time to maturity')\n",
        "plt.ylabel('spot rate')\n",
        "plt.title('five year spot rate curve')\n",
        "axes = plt.gca()\n",
        "axes.set_ylim([1.4, 2.8])\n",
        "plt.xticks(ticks = [0, 1, 2, 3, 4, 5, 6, 7, 8, 9, 10],labels = ['20/3','20/9','21/3','21/9', '22/3', '22/9', '23/3', '23/9', '24/3', '24/9','2025/3'])\n",
        "for i in range(10):\n",
        "    plt.plot(spot_rate_dict[i], label = dates[i])\n",
        "plt.legend(loc=1, prop={'size': 6})\n",
        "plt.savefig('/content/drive/My Drive/Colab Notebooks/A4/spot_rate.png')\n",
        "plt.show()"
      ],
      "execution_count": 15,
      "outputs": [
        {
          "output_type": "display_data",
          "data": {
            "image/png": "[encoded data removed]",
            "text/plain": [
              "<Figure size 432x288 with 1 Axes>"
            ]
          },
          "metadata": {
            "tags": []
          }
        }
      ]
    },
    {
      "cell_type": "code",
      "metadata": {
        "id": "Pj7H3pNvdii3",
        "colab_type": "code",
        "outputId": "4ffa4498-8bd5-404d-a38c-2bdd583f99bc",
        "colab": {
          "base_uri": "https://localhost:8080/",
          "height": 187
        }
      },
      "source": [
        "def generate_forward_rate(spot_rate_dict):\n",
        "    forward_rate_dict = {}\n",
        "    for i in range(len(spot_rate_dict)):\n",
        "        forward_rate_list = []\n",
        "        r_0_1 = spot_rate_dict[i][2]\n",
        "\n",
        "        j = 2\n",
        "        k = 4\n",
        "        print\n",
        "        while(k < len(spot_rate_dict[0])):\n",
        "            forward = (spot_rate_dict[i][k] * j - r_0_1)/(j-1)\n",
        "            forward_rate_list.append(forward)        \n",
        "            j += 1\n",
        "            k += 2\n",
        "            \n",
        "        print(forward_rate_list)\n",
        "        forward_rate_dict[i] = forward_rate_list\n",
        "    return forward_rate_dict\n",
        "\n",
        "\n",
        "forward_rate_dict = generate_forward_rate(spot_rate_dict)"
      ],
      "execution_count": 16,
      "outputs": [
        {
          "output_type": "stream",
          "text": [
            "[1.572299999999523, 1.6084499999995483, 1.5825666666664313, 1.5719499999994477]\n",
            "[1.5506999999995015, 1.5713999999995112, 1.5501666666663991, 1.5319249999994096]\n",
            "[1.540299999999491, 1.5501499999994897, 1.5229666666663768, 1.4983249999994377]\n",
            "[1.5418999999994925, 1.558999999999499, 1.5735666666664223, 1.5208499999994163]\n",
            "[1.534399999999485, 1.5537999999994938, 1.533866666666383, 1.516024999999411]\n",
            "[1.5732999999995239, 1.5962499999995363, 1.5814999999997637, 1.5613499999994371]\n",
            "[1.5286999999994795, 1.5965999999995364, 1.5884333333331038, 1.5652749999994409]\n",
            "[1.5856999999995365, 1.623999999999564, 1.5964999999997787, 1.5719999999994478]\n",
            "[1.5764999999995273, 1.6030999999995428, 1.5684999999997504, 1.5457999999994216]\n",
            "[1.5750999999995259, 1.5811499999995209, 1.5434999999997254, 1.5189749999994044]\n"
          ],
          "name": "stdout"
        }
      ]
    },
    {
      "cell_type": "code",
      "metadata": {
        "id": "ulNj9gkTF2uR",
        "colab_type": "code",
        "colab": {
          "base_uri": "https://localhost:8080/",
          "height": 295
        },
        "outputId": "5a8399ff-82ea-4584-8ffc-70d93bc20acc"
      },
      "source": [
        "dates = ['Jan 2', 'Jan 3', 'Jan 6', 'Jan 7', 'Jan 8', 'Jan 9', 'Jan 10', 'Jan 13', 'Jan 14', 'Jan 15']\n",
        "plt.xlabel('year')\n",
        "plt.ylabel('forward rate')\n",
        "plt.title('five year forward rate curve')\n",
        "axes = plt.gca()\n",
        "axes.set_ylim([1.4, 1.72])\n",
        "plt.xticks(ticks = [0, 1, 2, 3],labels = ['1yr-1yr','1yr-2yr','1yr-3yr','1yr-4yr'])\n",
        "for i in range(10):\n",
        "    plt.plot(forward_rate_dict[i], label = dates[i])\n",
        "plt.legend(loc=1, prop={'size': 6})\n",
        "plt.savefig('/content/drive/My Drive/Colab Notebooks/A4/forward_rate_one.png')\n",
        "plt.show()"
      ],
      "execution_count": 17,
      "outputs": [
        {
          "output_type": "display_data",
          "data": {
            "image/png": "[encoded data removed]",
            "text/plain": [
              "<Figure size 432x288 with 1 Axes>"
            ]
          },
          "metadata": {
            "tags": []
          }
        }
      ]
    },
    {
      "cell_type": "code",
      "metadata": {
        "id": "RmTLOcDkNzwg",
        "colab_type": "code",
        "outputId": "f9385fba-e01a-4b15-9aaf-2850bb33e4e3",
        "colab": {
          "base_uri": "https://localhost:8080/",
          "height": 187
        }
      },
      "source": [
        "def calculate_ytm_cov(day_to_full_ytm_dict):\n",
        "    ytm_list = []\n",
        "    for i in range(10):\n",
        "        j = 1\n",
        "        temp = []\n",
        "        while (j < len(day_to_full_ytm_dict[0])):\n",
        "            temp.append(day_to_full_ytm_dict[i][j])\n",
        "            j += 2\n",
        "        ytm_list.append(temp)\n",
        "\n",
        "    ytm_list = np.array(ytm_list).transpose()\n",
        "\n",
        "    log_returns = np.zeros((5, 9))\n",
        "    for i in range(len(ytm_list)):\n",
        "        for j in range(len(ytm_list[i])-1):\n",
        "            log_returns[i][j] = math.log(ytm_list[i][j]/ytm_list[i][j+1])\n",
        "\n",
        "    return np.cov(log_returns)\n",
        "\n",
        "ytm_cov_log_returns = calculate_ytm_cov(day_to_full_ytm_dict)\n",
        "print(ytm_cov_log_returns)"
      ],
      "execution_count": 23,
      "outputs": [
        {
          "output_type": "stream",
          "text": [
            "[[1.30101739e-04 8.94766906e-05 8.26383412e-05 1.00980301e-04\n",
            "  5.98365287e-05]\n",
            " [8.94766906e-05 1.41972539e-04 1.16699723e-04 1.40376444e-04\n",
            "  1.82737952e-04]\n",
            " [8.26383412e-05 1.16699723e-04 1.25098642e-04 1.46871748e-04\n",
            "  1.94325104e-04]\n",
            " [1.00980301e-04 1.40376444e-04 1.46871748e-04 2.13866657e-04\n",
            "  2.94514938e-04]\n",
            " [5.98365287e-05 1.82737952e-04 1.94325104e-04 2.94514938e-04\n",
            "  6.22666831e-04]]\n"
          ],
          "name": "stdout"
        }
      ]
    },
    {
      "cell_type": "code",
      "metadata": {
        "id": "RQhsdS3diq38",
        "colab_type": "code",
        "outputId": "5232b97d-c12f-440b-edf4-404f1c6dbad8",
        "colab": {
          "base_uri": "https://localhost:8080/",
          "height": 221
        }
      },
      "source": [
        "def calculate_forward_cov(forward_rate_dict):\n",
        "    forward_rate_list = []\n",
        "    for i in range(10):\n",
        "        j = 0\n",
        "        temp = []\n",
        "        while (j < len(forward_rate_dict[0])):\n",
        "            temp.append(forward_rate_dict[i][j])\n",
        "            j += 1\n",
        "        forward_rate_list.append(temp)\n",
        "\n",
        "    forward_rate_list = np.array(forward_rate_list).transpose()\n",
        "\n",
        "    log_returns = np.zeros((4, 9))\n",
        "    for i in range(len(forward_rate_list)):\n",
        "        for j in range(len(forward_rate_list[i])-1):\n",
        "            log_returns[i][j] = math.log(forward_rate_list[i][j]/forward_rate_list[i][j+1])\n",
        "\n",
        "    print(log_returns)\n",
        "\n",
        "    return np.cov(log_returns)\n",
        "\n",
        "forward_cov_log_returns = calculate_forward_cov(forward_rate_dict)\n",
        "print(forward_cov_log_returns)"
      ],
      "execution_count": 25,
      "outputs": [
        {
          "output_type": "stream",
          "text": [
            "[[ 0.01383307  0.00672924 -0.00103822  0.004876   -0.0250359   0.02875762\n",
            "  -0.03660825  0.00581875  0.00088844]\n",
            " [ 0.02330404  0.01361524 -0.00569289  0.00334105 -0.02695358 -0.00021924\n",
            "  -0.01701587  0.01295299  0.01378682]\n",
            " [ 0.02068555  0.01770226 -0.03268462  0.02555302 -0.03058198 -0.00437444\n",
            "  -0.00506553  0.01769398  0.01606718]\n",
            " [ 0.02579177  0.0221773  -0.01492157  0.00317761 -0.02945905 -0.0025107\n",
            "  -0.00428717  0.01680712  0.01750581]]\n",
            "[[0.00038622 0.00022733 0.00018891 0.00018493]\n",
            " [0.00022733 0.00026418 0.00028864 0.00028249]\n",
            " [0.00018891 0.00028864 0.00049305 0.00036401]\n",
            " [0.00018493 0.00028249 0.00036401 0.00034258]]\n"
          ],
          "name": "stdout"
        }
      ]
    },
    {
      "cell_type": "code",
      "metadata": {
        "id": "DEeR1XJ2nz6v",
        "colab_type": "code",
        "outputId": "eb428946-9010-4c8e-bba6-ad1aa4dce18b",
        "colab": {
          "base_uri": "https://localhost:8080/",
          "height": 221
        }
      },
      "source": [
        "ytm_w, ytm_v = LA.eig(ytm_cov_log_returns)\n",
        "print(ytm_w)\n",
        "print(ytm_v)\n",
        "\n",
        "forward_w, forward_v = LA.eig(forward_cov_log_returns)\n",
        "print(forward_w)\n",
        "print(forward_v)"
      ],
      "execution_count": 20,
      "outputs": [
        {
          "output_type": "stream",
          "text": [
            "[9.62056725e-04 2.04082203e-04 3.41210452e-05 2.24011734e-05\n",
            " 1.10452618e-05]\n",
            "[[-0.17298505 -0.64521975  0.58958315  0.44157945  0.10567382]\n",
            " [-0.30906617 -0.37307159 -0.71145934  0.36791372 -0.35179652]\n",
            " [-0.31462237 -0.29324061 -0.2813533  -0.36216164  0.77762586]\n",
            " [-0.44275925 -0.22978847  0.2130021  -0.67338569 -0.50233785]\n",
            " [-0.76126952  0.55291615  0.1472676   0.29161232  0.0895933 ]]\n",
            "[1.01908859e-03 3.85193843e-04 5.54239753e-06 6.86986408e-05]\n",
            "[[ 0.13372948  0.96477788  0.15766259 -0.16267323]\n",
            " [ 0.48158546  0.13388859 -0.6962447   0.5151627 ]\n",
            " [ 0.65938866 -0.19406148 -0.11219439 -0.71760654]\n",
            " [ 0.56160347 -0.11669462  0.69122951  0.43952891]]\n"
          ],
          "name": "stdout"
        }
      ]
    }
  ]
}